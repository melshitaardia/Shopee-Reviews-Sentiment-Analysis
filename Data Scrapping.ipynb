{
  "nbformat": 4,
  "nbformat_minor": 0,
  "metadata": {
    "colab": {
      "provenance": []
    },
    "kernelspec": {
      "name": "python3",
      "display_name": "Python 3"
    },
    "language_info": {
      "name": "python"
    }
  },
  "cells": [
    {
      "cell_type": "markdown",
      "source": [
        "#**Import Library**"
      ],
      "metadata": {
        "id": "KKhd_Dx8KYkG"
      }
    },
    {
      "cell_type": "code",
      "execution_count": 65,
      "metadata": {
        "colab": {
          "base_uri": "https://localhost:8080/"
        },
        "id": "u-PGOkIVKUtZ",
        "outputId": "f4a5fb57-8e9e-4c6b-c6b7-64af93b50981"
      },
      "outputs": [
        {
          "output_type": "stream",
          "name": "stdout",
          "text": [
            "Requirement already satisfied: google-play-scraper in /usr/local/lib/python3.11/dist-packages (1.2.7)\n"
          ]
        }
      ],
      "source": [
        "!pip install google-play-scraper"
      ]
    },
    {
      "cell_type": "code",
      "source": [
        "from google_play_scraper import reviews, Sort\n",
        "import pandas as pd\n",
        "import csv\n",
        "import os\n",
        "from google.colab import drive"
      ],
      "metadata": {
        "id": "3ootZ0C1KxNP"
      },
      "execution_count": 66,
      "outputs": []
    },
    {
      "cell_type": "code",
      "source": [
        "drive.mount('/content/drive')\n",
        "folder_path = '/content/drive/MyDrive/Dicoding/Project Analisis Sentimen'\n",
        "csv_path = os.path.join(folder_path, 'shopee_reviews.csv')"
      ],
      "metadata": {
        "colab": {
          "base_uri": "https://localhost:8080/"
        },
        "id": "M1InZOJ-Af7P",
        "outputId": "3eef3ecd-fda9-4e56-9e28-f5e2873c0f9a"
      },
      "execution_count": 67,
      "outputs": [
        {
          "output_type": "stream",
          "name": "stdout",
          "text": [
            "Drive already mounted at /content/drive; to attempt to forcibly remount, call drive.mount(\"/content/drive\", force_remount=True).\n"
          ]
        }
      ]
    },
    {
      "cell_type": "markdown",
      "source": [
        "#**Scraping Dataset**"
      ],
      "metadata": {
        "id": "0aofR64bLDVl"
      }
    },
    {
      "cell_type": "code",
      "source": [
        "scrapreview, _ = reviews(\n",
        "    'com.shopee.id',         # ID aplikasi Shopee\n",
        "    lang='id',               # Bahasa Indonesia\n",
        "    country='id',            # Negara Indonesia\n",
        "    sort=Sort.MOST_RELEVANT, # Ulasan paling relevan\n",
        "    count=11000              # Ambil minimal 10.000 ulasan\n",
        ")"
      ],
      "metadata": {
        "id": "u4Zr9WGCLIpR"
      },
      "execution_count": 68,
      "outputs": []
    },
    {
      "cell_type": "code",
      "source": [
        "with open(csv_path, mode='w', newline='', encoding='utf-8') as file:\n",
        "    writer = csv.writer(file)\n",
        "    writer.writerow(['Review'])  # Header kolom\n",
        "    for review in scrapreview:\n",
        "        writer.writerow([review['content']])\n",
        "\n",
        "# Ubah ke DataFrame\n",
        "df_shopee = pd.DataFrame(scrapreview)\n",
        "\n",
        "# Tampilkan informasi\n",
        "print(\"📊 Jumlah data dan kolom:\", df_shopee.shape)\n",
        "print(df_shopee.head())\n",
        "\n",
        "# Simpan ulang semua kolom ke file CSV yang sama\n",
        "df_shopee.to_csv(csv_path, index=False)\n",
        "print(f\"✅ File CSV lengkap berhasil disimpan di: {csv_path}\")"
      ],
      "metadata": {
        "id": "L-OqjNZLMDv1",
        "colab": {
          "base_uri": "https://localhost:8080/"
        },
        "outputId": "a300ebfe-545e-4c94-f8ba-d2c075c3d711"
      },
      "execution_count": 69,
      "outputs": [
        {
          "output_type": "stream",
          "name": "stdout",
          "text": [
            "📊 Jumlah data dan kolom: (11000, 11)\n",
            "                               reviewId         userName  \\\n",
            "0  3eb0260c-4c79-4006-9838-60c8b32d6802  Pengguna Google   \n",
            "1  66ff3e08-dfc0-475a-afe0-8afc5dd5176e  Pengguna Google   \n",
            "2  9431a5a1-a6d7-4a8a-9e3e-b3f09a5704b2  Pengguna Google   \n",
            "3  1f7d7626-cc85-467e-b5a5-96853c5a5a7a  Pengguna Google   \n",
            "4  54df2b65-5871-472a-b37a-c2dd32bb35c8  Pengguna Google   \n",
            "\n",
            "                                           userImage  \\\n",
            "0  https://play-lh.googleusercontent.com/EGemoI2N...   \n",
            "1  https://play-lh.googleusercontent.com/EGemoI2N...   \n",
            "2  https://play-lh.googleusercontent.com/EGemoI2N...   \n",
            "3  https://play-lh.googleusercontent.com/EGemoI2N...   \n",
            "4  https://play-lh.googleusercontent.com/EGemoI2N...   \n",
            "\n",
            "                                             content  score  thumbsUpCount  \\\n",
            "0  kalo bisa paket² yg banyak di bagi atau di ali...      1            188   \n",
            "1  sorry, kenapa ya setiap membatalkan pesanan/di...      1             32   \n",
            "2  Edit: Aplikasi sudah terbaru di v3.47.39. user...      2             85   \n",
            "3  Tolong shopee tulisannya jangan terlalu kecil ...      2             41   \n",
            "4  tolong jika status pesanan sudah \"Dalam pengan...      5            981   \n",
            "\n",
            "  reviewCreatedVersion                  at  \\\n",
            "0              3.47.39 2025-04-08 07:44:17   \n",
            "1              3.47.39 2025-04-09 17:17:09   \n",
            "2              3.47.39 2025-04-07 17:31:41   \n",
            "3              3.47.39 2025-04-07 18:29:20   \n",
            "4              3.47.39 2025-04-07 04:32:26   \n",
            "\n",
            "                                        replyContent           repliedAt  \\\n",
            "0  Hi kak Fardeanto Palapa , maaf ya sudah buat k... 2025-04-08 08:27:09   \n",
            "1  Hai kak patimura, maaf ya trkait pmbayaran COD... 2025-04-09 18:24:58   \n",
            "2  Hai kak maaf udh bikin ga nyaman terkait kenda... 2025-04-07 17:09:59   \n",
            "3  Hai kak maaf udh bikin ga nyaman terkait kenda... 2025-04-07 19:25:40   \n",
            "4  Hai kak Dide Naufal, maaf ya buat kamu gak nya... 2025-04-07 05:20:14   \n",
            "\n",
            "  appVersion  \n",
            "0    3.47.39  \n",
            "1    3.47.39  \n",
            "2    3.47.39  \n",
            "3    3.47.39  \n",
            "4    3.47.39  \n",
            "✅ File CSV lengkap berhasil disimpan di: /content/drive/MyDrive/Dicoding/Project Analisis Sentimen/shopee_reviews.csv\n"
          ]
        }
      ]
    }
  ]
}